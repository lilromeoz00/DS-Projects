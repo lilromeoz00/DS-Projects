{
 "cells": [
  {
   "cell_type": "code",
   "execution_count": 1,
   "metadata": {},
   "outputs": [
    {
     "name": "stdout",
     "output_type": "stream",
     "text": [
      "Collecting tensorflow==2.3.0\n",
      "  Downloading tensorflow-2.3.0-cp38-cp38-win_amd64.whl (342.5 MB)\n",
      "Requirement already satisfied: protobuf>=3.9.2 in c:\\users\\jordan\\appdata\\roaming\\python\\python38\\site-packages (from tensorflow==2.3.0) (3.14.0)\n",
      "Requirement already satisfied: six>=1.12.0 in c:\\users\\jordan\\appdata\\roaming\\python\\python38\\site-packages (from tensorflow==2.3.0) (1.15.0)\n",
      "Requirement already satisfied: gast==0.3.3 in c:\\users\\jordan\\appdata\\roaming\\python\\python38\\site-packages (from tensorflow==2.3.0) (0.3.3)\n",
      "Requirement already satisfied: google-pasta>=0.1.8 in c:\\users\\jordan\\appdata\\roaming\\python\\python38\\site-packages (from tensorflow==2.3.0) (0.2.0)\n",
      "Requirement already satisfied: keras-preprocessing<1.2,>=1.1.1 in c:\\users\\jordan\\appdata\\roaming\\python\\python38\\site-packages (from tensorflow==2.3.0) (1.1.2)\n",
      "Collecting tensorflow-estimator<2.4.0,>=2.3.0\n",
      "  Downloading tensorflow_estimator-2.3.0-py2.py3-none-any.whl (459 kB)\n",
      "Requirement already satisfied: scipy==1.4.1 in c:\\users\\jordan\\appdata\\roaming\\python\\python38\\site-packages (from tensorflow==2.3.0) (1.4.1)\n",
      "Requirement already satisfied: termcolor>=1.1.0 in c:\\users\\jordan\\appdata\\roaming\\python\\python38\\site-packages (from tensorflow==2.3.0) (1.1.0)\n",
      "Requirement already satisfied: tensorboard<3,>=2.3.0 in c:\\programdata\\anaconda3\\lib\\site-packages (from tensorflow==2.3.0) (2.4.0)\n",
      "Requirement already satisfied: wheel>=0.26 in c:\\programdata\\anaconda3\\lib\\site-packages (from tensorflow==2.3.0) (0.35.1)\n",
      "Requirement already satisfied: opt-einsum>=2.3.2 in c:\\users\\jordan\\appdata\\roaming\\python\\python38\\site-packages (from tensorflow==2.3.0) (3.3.0)\n",
      "Requirement already satisfied: wrapt>=1.11.1 in c:\\users\\jordan\\appdata\\roaming\\python\\python38\\site-packages (from tensorflow==2.3.0) (1.12.1)\n",
      "Requirement already satisfied: astunparse==1.6.3 in c:\\users\\jordan\\appdata\\roaming\\python\\python38\\site-packages (from tensorflow==2.3.0) (1.6.3)\n",
      "Requirement already satisfied: h5py<2.11.0,>=2.10.0 in c:\\users\\jordan\\appdata\\roaming\\python\\python38\\site-packages (from tensorflow==2.3.0) (2.10.0)\n",
      "Requirement already satisfied: grpcio>=1.8.6 in c:\\users\\jordan\\appdata\\roaming\\python\\python38\\site-packages (from tensorflow==2.3.0) (1.32.0)\n",
      "Requirement already satisfied: absl-py>=0.7.0 in c:\\users\\jordan\\appdata\\roaming\\python\\python38\\site-packages (from tensorflow==2.3.0) (0.11.0)\n",
      "Collecting numpy<1.19.0,>=1.16.0\n",
      "  Downloading numpy-1.18.5-cp38-cp38-win_amd64.whl (12.8 MB)\n",
      "Requirement already satisfied: google-auth<2,>=1.6.3 in c:\\users\\jordan\\appdata\\roaming\\python\\python38\\site-packages (from tensorboard<3,>=2.3.0->tensorflow==2.3.0) (1.24.0)\n",
      "Requirement already satisfied: werkzeug>=0.11.15 in c:\\programdata\\anaconda3\\lib\\site-packages (from tensorboard<3,>=2.3.0->tensorflow==2.3.0) (1.0.1)\n",
      "Requirement already satisfied: google-auth-oauthlib<0.5,>=0.4.1 in c:\\users\\jordan\\appdata\\roaming\\python\\python38\\site-packages (from tensorboard<3,>=2.3.0->tensorflow==2.3.0) (0.4.2)\n",
      "Requirement already satisfied: requests<3,>=2.21.0 in c:\\programdata\\anaconda3\\lib\\site-packages (from tensorboard<3,>=2.3.0->tensorflow==2.3.0) (2.24.0)\n",
      "Requirement already satisfied: markdown>=2.6.8 in c:\\users\\jordan\\appdata\\roaming\\python\\python38\\site-packages (from tensorboard<3,>=2.3.0->tensorflow==2.3.0) (3.3.3)\n",
      "Requirement already satisfied: setuptools>=41.0.0 in c:\\programdata\\anaconda3\\lib\\site-packages (from tensorboard<3,>=2.3.0->tensorflow==2.3.0) (50.3.1.post20201107)\n",
      "Requirement already satisfied: tensorboard-plugin-wit>=1.6.0 in c:\\users\\jordan\\appdata\\roaming\\python\\python38\\site-packages (from tensorboard<3,>=2.3.0->tensorflow==2.3.0) (1.7.0)\n",
      "Requirement already satisfied: rsa<5,>=3.1.4; python_version >= \"3.6\" in c:\\users\\jordan\\appdata\\roaming\\python\\python38\\site-packages (from google-auth<2,>=1.6.3->tensorboard<3,>=2.3.0->tensorflow==2.3.0) (4.6)\n",
      "Requirement already satisfied: pyasn1-modules>=0.2.1 in c:\\users\\jordan\\appdata\\roaming\\python\\python38\\site-packages (from google-auth<2,>=1.6.3->tensorboard<3,>=2.3.0->tensorflow==2.3.0) (0.2.8)\n",
      "Requirement already satisfied: cachetools<5.0,>=2.0.0 in c:\\users\\jordan\\appdata\\roaming\\python\\python38\\site-packages (from google-auth<2,>=1.6.3->tensorboard<3,>=2.3.0->tensorflow==2.3.0) (4.2.0)\n",
      "Requirement already satisfied: requests-oauthlib>=0.7.0 in c:\\users\\jordan\\appdata\\roaming\\python\\python38\\site-packages (from google-auth-oauthlib<0.5,>=0.4.1->tensorboard<3,>=2.3.0->tensorflow==2.3.0) (1.3.0)\n",
      "Requirement already satisfied: idna<3,>=2.5 in c:\\programdata\\anaconda3\\lib\\site-packages (from requests<3,>=2.21.0->tensorboard<3,>=2.3.0->tensorflow==2.3.0) (2.10)\n",
      "Requirement already satisfied: urllib3!=1.25.0,!=1.25.1,<1.26,>=1.21.1 in c:\\programdata\\anaconda3\\lib\\site-packages (from requests<3,>=2.21.0->tensorboard<3,>=2.3.0->tensorflow==2.3.0) (1.25.11)\n",
      "Requirement already satisfied: chardet<4,>=3.0.2 in c:\\programdata\\anaconda3\\lib\\site-packages (from requests<3,>=2.21.0->tensorboard<3,>=2.3.0->tensorflow==2.3.0) (3.0.4)\n",
      "Requirement already satisfied: certifi>=2017.4.17 in c:\\programdata\\anaconda3\\lib\\site-packages (from requests<3,>=2.21.0->tensorboard<3,>=2.3.0->tensorflow==2.3.0) (2020.6.20)\n",
      "Requirement already satisfied: pyasn1>=0.1.3 in c:\\users\\jordan\\appdata\\roaming\\python\\python38\\site-packages (from rsa<5,>=3.1.4; python_version >= \"3.6\"->google-auth<2,>=1.6.3->tensorboard<3,>=2.3.0->tensorflow==2.3.0) (0.4.8)\n",
      "Requirement already satisfied: oauthlib>=3.0.0 in c:\\users\\jordan\\appdata\\roaming\\python\\python38\\site-packages (from requests-oauthlib>=0.7.0->google-auth-oauthlib<0.5,>=0.4.1->tensorboard<3,>=2.3.0->tensorflow==2.3.0) (3.1.0)\n",
      "Installing collected packages: tensorflow-estimator, numpy, tensorflow\n",
      "  Attempting uninstall: tensorflow-estimator\n",
      "    Found existing installation: tensorflow-estimator 2.4.0\n",
      "    Uninstalling tensorflow-estimator-2.4.0:\n",
      "      Successfully uninstalled tensorflow-estimator-2.4.0\n",
      "  Attempting uninstall: numpy\n",
      "    Found existing installation: numpy 1.19.4\n",
      "    Uninstalling numpy-1.19.4:\n",
      "      Successfully uninstalled numpy-1.19.4\n",
      "  Rolling back uninstall of numpy\n",
      "  Moving to c:\\users\\jordan\\appdata\\roaming\\python\\python38\\scripts\\f2py.exe\n",
      "   from C:\\Users\\jordan\\AppData\\Local\\Temp\\pip-uninstall-l0u6wfyo\\f2py.exe\n",
      "  Moving to c:\\users\\jordan\\appdata\\roaming\\python\\python38\\site-packages\\numpy-1.19.4.dist-info\\\n",
      "   from C:\\Users\\jordan\\AppData\\Roaming\\Python\\Python38\\site-packages\\~umpy-1.19.4.dist-info\n",
      "  Moving to c:\\users\\jordan\\appdata\\roaming\\python\\python38\\site-packages\\numpy\\\n",
      "   from C:\\Users\\jordan\\AppData\\Roaming\\Python\\Python38\\site-packages\\~umpy\n"
     ]
    },
    {
     "name": "stderr",
     "output_type": "stream",
     "text": [
      "ERROR: Could not install packages due to an EnvironmentError: [WinError 5] Access is denied: 'C:\\\\ProgramData\\\\Anaconda3\\\\Lib\\\\site-packages\\\\numpy\\\\LICENSE.txt'\n",
      "Consider using the `--user` option or check the permissions.\n",
      "\n"
     ]
    },
    {
     "name": "stdout",
     "output_type": "stream",
     "text": [
      "Requirement already satisfied: gym in c:\\programdata\\anaconda3\\lib\\site-packages (0.18.0)\n",
      "Requirement already satisfied: Pillow<=7.2.0 in c:\\users\\jordan\\appdata\\roaming\\python\\python38\\site-packages (from gym) (7.2.0)\n",
      "Requirement already satisfied: pyglet<=1.5.0,>=1.4.0 in c:\\programdata\\anaconda3\\lib\\site-packages (from gym) (1.5.0)\n",
      "Requirement already satisfied: cloudpickle<1.7.0,>=1.2.0 in c:\\users\\jordan\\appdata\\roaming\\python\\python38\\site-packages (from gym) (1.6.0)\n",
      "Requirement already satisfied: scipy in c:\\users\\jordan\\appdata\\roaming\\python\\python38\\site-packages (from gym) (1.4.1)\n",
      "Requirement already satisfied: numpy>=1.10.4 in c:\\users\\jordan\\appdata\\roaming\\python\\python38\\site-packages (from gym) (1.19.4)\n",
      "Requirement already satisfied: future in c:\\programdata\\anaconda3\\lib\\site-packages (from pyglet<=1.5.0,>=1.4.0->gym) (0.18.2)\n",
      "Requirement already satisfied: keras in c:\\users\\jordan\\appdata\\roaming\\python\\python38\\site-packages (2.4.3)\n",
      "Requirement already satisfied: numpy>=1.9.1 in c:\\users\\jordan\\appdata\\roaming\\python\\python38\\site-packages (from keras) (1.19.4)\n",
      "Requirement already satisfied: scipy>=0.14 in c:\\users\\jordan\\appdata\\roaming\\python\\python38\\site-packages (from keras) (1.4.1)\n",
      "Requirement already satisfied: pyyaml in c:\\programdata\\anaconda3\\lib\\site-packages (from keras) (5.3.1)\n",
      "Requirement already satisfied: h5py in c:\\users\\jordan\\appdata\\roaming\\python\\python38\\site-packages (from keras) (2.10.0)\n",
      "Requirement already satisfied: six in c:\\users\\jordan\\appdata\\roaming\\python\\python38\\site-packages (from h5py->keras) (1.15.0)\n",
      "Collecting keras-rl2\n",
      "  Downloading keras_rl2-1.0.4-py3-none-any.whl (53 kB)\n",
      "Requirement already satisfied: tensorflow>=2.1.0 in c:\\users\\jordan\\appdata\\roaming\\python\\python38\\site-packages (from keras-rl2) (2.4.1)\n",
      "Requirement already satisfied: wheel~=0.35 in c:\\programdata\\anaconda3\\lib\\site-packages (from tensorflow>=2.1.0->keras-rl2) (0.35.1)\n",
      "Requirement already satisfied: termcolor~=1.1.0 in c:\\users\\jordan\\appdata\\roaming\\python\\python38\\site-packages (from tensorflow>=2.1.0->keras-rl2) (1.1.0)\n",
      "Requirement already satisfied: wrapt~=1.12.1 in c:\\users\\jordan\\appdata\\roaming\\python\\python38\\site-packages (from tensorflow>=2.1.0->keras-rl2) (1.12.1)\n",
      "Requirement already satisfied: opt-einsum~=3.3.0 in c:\\users\\jordan\\appdata\\roaming\\python\\python38\\site-packages (from tensorflow>=2.1.0->keras-rl2) (3.3.0)\n",
      "Requirement already satisfied: gast==0.3.3 in c:\\users\\jordan\\appdata\\roaming\\python\\python38\\site-packages (from tensorflow>=2.1.0->keras-rl2) (0.3.3)\n",
      "Requirement already satisfied: grpcio~=1.32.0 in c:\\users\\jordan\\appdata\\roaming\\python\\python38\\site-packages (from tensorflow>=2.1.0->keras-rl2) (1.32.0)\n",
      "Requirement already satisfied: six~=1.15.0 in c:\\users\\jordan\\appdata\\roaming\\python\\python38\\site-packages (from tensorflow>=2.1.0->keras-rl2) (1.15.0)\n",
      "Requirement already satisfied: flatbuffers~=1.12.0 in c:\\users\\jordan\\appdata\\roaming\\python\\python38\\site-packages (from tensorflow>=2.1.0->keras-rl2) (1.12)\n",
      "Requirement already satisfied: astunparse~=1.6.3 in c:\\users\\jordan\\appdata\\roaming\\python\\python38\\site-packages (from tensorflow>=2.1.0->keras-rl2) (1.6.3)\n",
      "Requirement already satisfied: keras-preprocessing~=1.1.2 in c:\\users\\jordan\\appdata\\roaming\\python\\python38\\site-packages (from tensorflow>=2.1.0->keras-rl2) (1.1.2)\n",
      "Requirement already satisfied: protobuf>=3.9.2 in c:\\users\\jordan\\appdata\\roaming\\python\\python38\\site-packages (from tensorflow>=2.1.0->keras-rl2) (3.14.0)\n",
      "Requirement already satisfied: tensorboard~=2.4 in c:\\programdata\\anaconda3\\lib\\site-packages (from tensorflow>=2.1.0->keras-rl2) (2.4.0)\n",
      "Requirement already satisfied: typing-extensions~=3.7.4 in c:\\programdata\\anaconda3\\lib\\site-packages (from tensorflow>=2.1.0->keras-rl2) (3.7.4.3)\n",
      "Collecting tensorflow-estimator<2.5.0,>=2.4.0\n",
      "  Using cached tensorflow_estimator-2.4.0-py2.py3-none-any.whl (462 kB)\n",
      "Requirement already satisfied: absl-py~=0.10 in c:\\users\\jordan\\appdata\\roaming\\python\\python38\\site-packages (from tensorflow>=2.1.0->keras-rl2) (0.11.0)\n",
      "Requirement already satisfied: google-pasta~=0.2 in c:\\users\\jordan\\appdata\\roaming\\python\\python38\\site-packages (from tensorflow>=2.1.0->keras-rl2) (0.2.0)\n",
      "Requirement already satisfied: h5py~=2.10.0 in c:\\users\\jordan\\appdata\\roaming\\python\\python38\\site-packages (from tensorflow>=2.1.0->keras-rl2) (2.10.0)\n",
      "Requirement already satisfied: numpy~=1.19.2 in c:\\users\\jordan\\appdata\\roaming\\python\\python38\\site-packages (from tensorflow>=2.1.0->keras-rl2) (1.19.4)\n",
      "Requirement already satisfied: werkzeug>=0.11.15 in c:\\programdata\\anaconda3\\lib\\site-packages (from tensorboard~=2.4->tensorflow>=2.1.0->keras-rl2) (1.0.1)\n",
      "Requirement already satisfied: requests<3,>=2.21.0 in c:\\programdata\\anaconda3\\lib\\site-packages (from tensorboard~=2.4->tensorflow>=2.1.0->keras-rl2) (2.24.0)\n",
      "Requirement already satisfied: setuptools>=41.0.0 in c:\\programdata\\anaconda3\\lib\\site-packages (from tensorboard~=2.4->tensorflow>=2.1.0->keras-rl2) (50.3.1.post20201107)\n",
      "Requirement already satisfied: google-auth-oauthlib<0.5,>=0.4.1 in c:\\users\\jordan\\appdata\\roaming\\python\\python38\\site-packages (from tensorboard~=2.4->tensorflow>=2.1.0->keras-rl2) (0.4.2)\n",
      "Requirement already satisfied: tensorboard-plugin-wit>=1.6.0 in c:\\users\\jordan\\appdata\\roaming\\python\\python38\\site-packages (from tensorboard~=2.4->tensorflow>=2.1.0->keras-rl2) (1.7.0)\n",
      "Requirement already satisfied: google-auth<2,>=1.6.3 in c:\\users\\jordan\\appdata\\roaming\\python\\python38\\site-packages (from tensorboard~=2.4->tensorflow>=2.1.0->keras-rl2) (1.24.0)\n",
      "Requirement already satisfied: markdown>=2.6.8 in c:\\users\\jordan\\appdata\\roaming\\python\\python38\\site-packages (from tensorboard~=2.4->tensorflow>=2.1.0->keras-rl2) (3.3.3)\n",
      "Requirement already satisfied: idna<3,>=2.5 in c:\\programdata\\anaconda3\\lib\\site-packages (from requests<3,>=2.21.0->tensorboard~=2.4->tensorflow>=2.1.0->keras-rl2) (2.10)\n",
      "Requirement already satisfied: certifi>=2017.4.17 in c:\\programdata\\anaconda3\\lib\\site-packages (from requests<3,>=2.21.0->tensorboard~=2.4->tensorflow>=2.1.0->keras-rl2) (2020.6.20)\n",
      "Requirement already satisfied: urllib3!=1.25.0,!=1.25.1,<1.26,>=1.21.1 in c:\\programdata\\anaconda3\\lib\\site-packages (from requests<3,>=2.21.0->tensorboard~=2.4->tensorflow>=2.1.0->keras-rl2) (1.25.11)\n",
      "Requirement already satisfied: chardet<4,>=3.0.2 in c:\\programdata\\anaconda3\\lib\\site-packages (from requests<3,>=2.21.0->tensorboard~=2.4->tensorflow>=2.1.0->keras-rl2) (3.0.4)\n",
      "Requirement already satisfied: requests-oauthlib>=0.7.0 in c:\\users\\jordan\\appdata\\roaming\\python\\python38\\site-packages (from google-auth-oauthlib<0.5,>=0.4.1->tensorboard~=2.4->tensorflow>=2.1.0->keras-rl2) (1.3.0)\n",
      "Requirement already satisfied: rsa<5,>=3.1.4; python_version >= \"3.6\" in c:\\users\\jordan\\appdata\\roaming\\python\\python38\\site-packages (from google-auth<2,>=1.6.3->tensorboard~=2.4->tensorflow>=2.1.0->keras-rl2) (4.6)\n",
      "Requirement already satisfied: cachetools<5.0,>=2.0.0 in c:\\users\\jordan\\appdata\\roaming\\python\\python38\\site-packages (from google-auth<2,>=1.6.3->tensorboard~=2.4->tensorflow>=2.1.0->keras-rl2) (4.2.0)\n",
      "Requirement already satisfied: pyasn1-modules>=0.2.1 in c:\\users\\jordan\\appdata\\roaming\\python\\python38\\site-packages (from google-auth<2,>=1.6.3->tensorboard~=2.4->tensorflow>=2.1.0->keras-rl2) (0.2.8)\n",
      "Requirement already satisfied: oauthlib>=3.0.0 in c:\\users\\jordan\\appdata\\roaming\\python\\python38\\site-packages (from requests-oauthlib>=0.7.0->google-auth-oauthlib<0.5,>=0.4.1->tensorboard~=2.4->tensorflow>=2.1.0->keras-rl2) (3.1.0)\n",
      "Requirement already satisfied: pyasn1>=0.1.3 in c:\\users\\jordan\\appdata\\roaming\\python\\python38\\site-packages (from rsa<5,>=3.1.4; python_version >= \"3.6\"->google-auth<2,>=1.6.3->tensorboard~=2.4->tensorflow>=2.1.0->keras-rl2) (0.4.8)\n",
      "Installing collected packages: keras-rl2, tensorflow-estimator\n",
      "  Attempting uninstall: tensorflow-estimator\n",
      "    Found existing installation: tensorflow-estimator 2.3.0\n",
      "    Uninstalling tensorflow-estimator-2.3.0:\n",
      "      Successfully uninstalled tensorflow-estimator-2.3.0\n",
      "Successfully installed keras-rl2-1.0.4 tensorflow-estimator-2.4.0\n"
     ]
    }
   ],
   "source": [
    "!pip install tensorflow==2.3.0\n",
    "!pip install gym\n",
    "!pip install keras\n",
    "!pip install keras-rl2"
   ]
  },
  {
   "cell_type": "code",
   "execution_count": 1,
   "metadata": {},
   "outputs": [],
   "source": [
    "import gym\n",
    "import random"
   ]
  },
  {
   "cell_type": "code",
   "execution_count": 2,
   "metadata": {},
   "outputs": [],
   "source": [
    "env = gym.make('CartPole-v0')\n",
    "states = env.observation_space.shape[0]\n",
    "actions = env.action_space.n"
   ]
  },
  {
   "cell_type": "code",
   "execution_count": 3,
   "metadata": {},
   "outputs": [
    {
     "name": "stdout",
     "output_type": "stream",
     "text": [
      "Episode:1 Score:17.0\n",
      "Episode:2 Score:14.0\n",
      "Episode:3 Score:33.0\n",
      "Episode:4 Score:22.0\n",
      "Episode:5 Score:17.0\n",
      "Episode:6 Score:33.0\n",
      "Episode:7 Score:49.0\n",
      "Episode:8 Score:20.0\n",
      "Episode:9 Score:18.0\n",
      "Episode:10 Score:18.0\n",
      "Episode:11 Score:21.0\n",
      "Episode:12 Score:41.0\n",
      "Episode:13 Score:44.0\n",
      "Episode:14 Score:26.0\n",
      "Episode:15 Score:13.0\n",
      "Episode:16 Score:36.0\n",
      "Episode:17 Score:17.0\n",
      "Episode:18 Score:15.0\n",
      "Episode:19 Score:10.0\n",
      "Episode:20 Score:25.0\n",
      "Episode:21 Score:21.0\n",
      "Episode:22 Score:18.0\n",
      "Episode:23 Score:22.0\n",
      "Episode:24 Score:44.0\n",
      "Episode:25 Score:21.0\n",
      "Episode:26 Score:13.0\n",
      "Episode:27 Score:19.0\n",
      "Episode:28 Score:15.0\n",
      "Episode:29 Score:21.0\n",
      "Episode:30 Score:25.0\n",
      "Episode:31 Score:15.0\n",
      "Episode:32 Score:16.0\n",
      "Episode:33 Score:14.0\n",
      "Episode:34 Score:14.0\n",
      "Episode:35 Score:23.0\n",
      "Episode:36 Score:33.0\n",
      "Episode:37 Score:14.0\n",
      "Episode:38 Score:27.0\n",
      "Episode:39 Score:15.0\n",
      "Episode:40 Score:13.0\n",
      "Episode:41 Score:17.0\n",
      "Episode:42 Score:36.0\n",
      "Episode:43 Score:21.0\n",
      "Episode:44 Score:13.0\n",
      "Episode:45 Score:28.0\n",
      "Episode:46 Score:26.0\n",
      "Episode:47 Score:14.0\n",
      "Episode:48 Score:32.0\n",
      "Episode:49 Score:11.0\n",
      "Episode:50 Score:10.0\n"
     ]
    }
   ],
   "source": [
    "episodes = 50\n",
    "Q = []\n",
    "for episode in range(1, episodes+1):\n",
    "    state = env.reset()\n",
    "    done = False\n",
    "    score = 0\n",
    "    \n",
    "    while not done:\n",
    "        env.render()\n",
    "        action = random.choice([0,1])\n",
    "        n_state, reward, done, info = env.step(action)\n",
    "        score += reward\n",
    "    print(\"Episode:{} Score:{}\".format(episode, score))\n",
    "    Q.append(score)"
   ]
  },
  {
   "cell_type": "code",
   "execution_count": 5,
   "metadata": {},
   "outputs": [
    {
     "name": "stdout",
     "output_type": "stream",
     "text": [
      "[17.0, 14.0, 33.0, 22.0, 17.0, 33.0, 49.0, 20.0, 18.0, 18.0, 21.0, 41.0, 44.0, 26.0, 13.0, 36.0, 17.0, 15.0, 10.0, 25.0, 21.0, 18.0, 22.0, 44.0, 21.0, 13.0, 19.0, 15.0, 21.0, 25.0, 15.0, 16.0, 14.0, 14.0, 23.0, 33.0, 14.0, 27.0, 15.0, 13.0, 17.0, 36.0, 21.0, 13.0, 28.0, 26.0, 14.0, 32.0, 11.0, 10.0]\n"
     ]
    }
   ],
   "source": [
    "print(Q)"
   ]
  },
  {
   "cell_type": "code",
   "execution_count": 7,
   "metadata": {},
   "outputs": [
    {
     "name": "stdout",
     "output_type": "stream",
     "text": [
      "22.0\n"
     ]
    }
   ],
   "source": [
    "print( (sum(Q)) / (len(Q) ))"
   ]
  },
  {
   "cell_type": "code",
   "execution_count": 12,
   "metadata": {},
   "outputs": [],
   "source": [
    "import numpy as np\n",
    "import tensorflow\n",
    "from tensorflow.keras.models import Sequential\n",
    "from tensorflow.keras.layers import Dense, Flatten\n",
    "from tensorflow.keras.optimizers import Adam"
   ]
  },
  {
   "cell_type": "code",
   "execution_count": 13,
   "metadata": {},
   "outputs": [],
   "source": [
    "def build_model(states, actions):\n",
    "    model = tensorflow.keras.Sequential()\n",
    "    model.add(Flatten(input_shape=(1,states)))\n",
    "    model.add(Dense(24, activation='relu'))\n",
    "    model.add(Dense(24, activation='relu'))\n",
    "    model.add(Dense(actions, activation='linear'))\n",
    "    return model"
   ]
  },
  {
   "cell_type": "code",
   "execution_count": 14,
   "metadata": {},
   "outputs": [],
   "source": [
    "model = build_model(states, actions)"
   ]
  },
  {
   "cell_type": "code",
   "execution_count": 15,
   "metadata": {},
   "outputs": [
    {
     "name": "stdout",
     "output_type": "stream",
     "text": [
      "Model: \"sequential_1\"\n",
      "_________________________________________________________________\n",
      "Layer (type)                 Output Shape              Param #   \n",
      "=================================================================\n",
      "flatten_1 (Flatten)          (None, 4)                 0         \n",
      "_________________________________________________________________\n",
      "dense_3 (Dense)              (None, 24)                120       \n",
      "_________________________________________________________________\n",
      "dense_4 (Dense)              (None, 24)                600       \n",
      "_________________________________________________________________\n",
      "dense_5 (Dense)              (None, 2)                 50        \n",
      "=================================================================\n",
      "Total params: 770\n",
      "Trainable params: 770\n",
      "Non-trainable params: 0\n",
      "_________________________________________________________________\n"
     ]
    }
   ],
   "source": [
    "model.summary()"
   ]
  },
  {
   "cell_type": "code",
   "execution_count": 16,
   "metadata": {},
   "outputs": [],
   "source": [
    "from rl.agents import DQNAgent\n",
    "from rl.policy import BoltzmannQPolicy\n",
    "from rl.memory import SequentialMemory"
   ]
  },
  {
   "cell_type": "code",
   "execution_count": 17,
   "metadata": {},
   "outputs": [],
   "source": [
    "def build_agent(model, actions):\n",
    "    policy = BoltzmannQPolicy()\n",
    "    memory = SequentialMemory(limit=50000, window_length=1)\n",
    "    dqn = DQNAgent(model=model, memory=memory, policy=policy,\n",
    "                  nb_actions=actions, nb_steps_warmup=10, target_model_update=1e-2)\n",
    "    return dqn"
   ]
  },
  {
   "cell_type": "code",
   "execution_count": 18,
   "metadata": {},
   "outputs": [
    {
     "name": "stdout",
     "output_type": "stream",
     "text": [
      "Training for 50000 steps ...\n",
      "Interval 1 (0 steps performed)\n"
     ]
    },
    {
     "name": "stderr",
     "output_type": "stream",
     "text": [
      "C:\\Users\\jordan\\AppData\\Roaming\\Python\\Python38\\site-packages\\tensorflow\\python\\keras\\engine\\training.py:2325: UserWarning: `Model.state_updates` will be removed in a future version. This property should not be used in TensorFlow 2.0, as `updates` are applied automatically.\n",
      "  warnings.warn('`Model.state_updates` will be removed in a future version. '\n"
     ]
    },
    {
     "name": "stdout",
     "output_type": "stream",
     "text": [
      "    1/10000 [..............................] - ETA: 44:39 - reward: 1.0000"
     ]
    },
    {
     "name": "stderr",
     "output_type": "stream",
     "text": [
      "C:\\ProgramData\\Anaconda3\\lib\\site-packages\\rl\\memory.py:40: UserWarning: Not enough entries to sample without replacement. Consider increasing your warm-up phase to avoid oversampling!\n",
      "  warnings.warn('Not enough entries to sample without replacement. Consider increasing your warm-up phase to avoid oversampling!')\n"
     ]
    },
    {
     "name": "stdout",
     "output_type": "stream",
     "text": [
      "10000/10000 [==============================] - 77s 8ms/step - reward: 1.0000\n",
      "101 episodes - episode_reward: 98.752 [10.000, 200.000] - loss: 2.022 - mae: 18.215 - mean_q: 36.863\n",
      "\n",
      "Interval 2 (10000 steps performed)\n",
      "10000/10000 [==============================] - 77s 8ms/step - reward: 1.0000\n",
      "52 episodes - episode_reward: 191.827 [165.000, 200.000] - loss: 3.276 - mae: 35.522 - mean_q: 71.753\n",
      "\n",
      "Interval 3 (20000 steps performed)\n",
      "10000/10000 [==============================] - 77s 8ms/step - reward: 1.0000\n",
      "50 episodes - episode_reward: 197.320 [160.000, 200.000] - loss: 3.503 - mae: 38.691 - mean_q: 78.015\n",
      "\n",
      "Interval 4 (30000 steps performed)\n",
      "10000/10000 [==============================] - 79s 8ms/step - reward: 1.0000\n",
      "51 episodes - episode_reward: 196.824 [145.000, 200.000] - loss: 4.677 - mae: 39.628 - mean_q: 79.740\n",
      "\n",
      "Interval 5 (40000 steps performed)\n",
      "10000/10000 [==============================] - 79s 8ms/step - reward: 1.0000\n",
      "done, took 388.494 seconds\n"
     ]
    },
    {
     "data": {
      "text/plain": [
       "<tensorflow.python.keras.callbacks.History at 0x16b18fa6e80>"
      ]
     },
     "execution_count": 18,
     "metadata": {},
     "output_type": "execute_result"
    }
   ],
   "source": [
    "dqn = build_agent(model, actions)\n",
    "dqn.compile(Adam(lr=1e-3), metrics=['mae'])\n",
    "dqn.fit(env, nb_steps=50000, visualize=False, verbose=1)"
   ]
  },
  {
   "cell_type": "code",
   "execution_count": 19,
   "metadata": {},
   "outputs": [
    {
     "name": "stdout",
     "output_type": "stream",
     "text": [
      "Testing for 100 episodes ...\n",
      "Episode 1: reward: 131.000, steps: 131\n",
      "Episode 2: reward: 149.000, steps: 149\n",
      "Episode 3: reward: 167.000, steps: 167\n",
      "Episode 4: reward: 169.000, steps: 169\n",
      "Episode 5: reward: 140.000, steps: 140\n",
      "Episode 6: reward: 200.000, steps: 200\n",
      "Episode 7: reward: 159.000, steps: 159\n",
      "Episode 8: reward: 131.000, steps: 131\n",
      "Episode 9: reward: 175.000, steps: 175\n",
      "Episode 10: reward: 200.000, steps: 200\n",
      "Episode 11: reward: 200.000, steps: 200\n",
      "Episode 12: reward: 155.000, steps: 155\n",
      "Episode 13: reward: 144.000, steps: 144\n",
      "Episode 14: reward: 153.000, steps: 153\n",
      "Episode 15: reward: 133.000, steps: 133\n",
      "Episode 16: reward: 133.000, steps: 133\n",
      "Episode 17: reward: 192.000, steps: 192\n",
      "Episode 18: reward: 158.000, steps: 158\n",
      "Episode 19: reward: 133.000, steps: 133\n",
      "Episode 20: reward: 200.000, steps: 200\n",
      "Episode 21: reward: 116.000, steps: 116\n",
      "Episode 22: reward: 128.000, steps: 128\n",
      "Episode 23: reward: 200.000, steps: 200\n",
      "Episode 24: reward: 144.000, steps: 144\n",
      "Episode 25: reward: 178.000, steps: 178\n",
      "Episode 26: reward: 164.000, steps: 164\n",
      "Episode 27: reward: 148.000, steps: 148\n",
      "Episode 28: reward: 144.000, steps: 144\n",
      "Episode 29: reward: 131.000, steps: 131\n",
      "Episode 30: reward: 171.000, steps: 171\n",
      "Episode 31: reward: 128.000, steps: 128\n",
      "Episode 32: reward: 180.000, steps: 180\n",
      "Episode 33: reward: 200.000, steps: 200\n",
      "Episode 34: reward: 123.000, steps: 123\n",
      "Episode 35: reward: 181.000, steps: 181\n",
      "Episode 36: reward: 143.000, steps: 143\n",
      "Episode 37: reward: 133.000, steps: 133\n",
      "Episode 38: reward: 133.000, steps: 133\n",
      "Episode 39: reward: 177.000, steps: 177\n",
      "Episode 40: reward: 131.000, steps: 131\n",
      "Episode 41: reward: 135.000, steps: 135\n",
      "Episode 42: reward: 166.000, steps: 166\n",
      "Episode 43: reward: 133.000, steps: 133\n",
      "Episode 44: reward: 146.000, steps: 146\n",
      "Episode 45: reward: 135.000, steps: 135\n",
      "Episode 46: reward: 165.000, steps: 165\n",
      "Episode 47: reward: 161.000, steps: 161\n",
      "Episode 48: reward: 173.000, steps: 173\n",
      "Episode 49: reward: 177.000, steps: 177\n",
      "Episode 50: reward: 129.000, steps: 129\n",
      "Episode 51: reward: 169.000, steps: 169\n",
      "Episode 52: reward: 136.000, steps: 136\n",
      "Episode 53: reward: 153.000, steps: 153\n",
      "Episode 54: reward: 155.000, steps: 155\n",
      "Episode 55: reward: 200.000, steps: 200\n",
      "Episode 56: reward: 142.000, steps: 142\n",
      "Episode 57: reward: 171.000, steps: 171\n",
      "Episode 58: reward: 188.000, steps: 188\n",
      "Episode 59: reward: 200.000, steps: 200\n",
      "Episode 60: reward: 200.000, steps: 200\n",
      "Episode 61: reward: 130.000, steps: 130\n",
      "Episode 62: reward: 138.000, steps: 138\n",
      "Episode 63: reward: 192.000, steps: 192\n",
      "Episode 64: reward: 200.000, steps: 200\n",
      "Episode 65: reward: 137.000, steps: 137\n",
      "Episode 66: reward: 200.000, steps: 200\n",
      "Episode 67: reward: 152.000, steps: 152\n",
      "Episode 68: reward: 155.000, steps: 155\n",
      "Episode 69: reward: 173.000, steps: 173\n",
      "Episode 70: reward: 124.000, steps: 124\n",
      "Episode 71: reward: 166.000, steps: 166\n",
      "Episode 72: reward: 177.000, steps: 177\n",
      "Episode 73: reward: 188.000, steps: 188\n",
      "Episode 74: reward: 185.000, steps: 185\n",
      "Episode 75: reward: 149.000, steps: 149\n",
      "Episode 76: reward: 170.000, steps: 170\n",
      "Episode 77: reward: 144.000, steps: 144\n",
      "Episode 78: reward: 143.000, steps: 143\n",
      "Episode 79: reward: 191.000, steps: 191\n",
      "Episode 80: reward: 200.000, steps: 200\n",
      "Episode 81: reward: 143.000, steps: 143\n",
      "Episode 82: reward: 164.000, steps: 164\n",
      "Episode 83: reward: 118.000, steps: 118\n",
      "Episode 84: reward: 179.000, steps: 179\n",
      "Episode 85: reward: 140.000, steps: 140\n",
      "Episode 86: reward: 146.000, steps: 146\n",
      "Episode 87: reward: 138.000, steps: 138\n",
      "Episode 88: reward: 199.000, steps: 199\n",
      "Episode 89: reward: 177.000, steps: 177\n",
      "Episode 90: reward: 174.000, steps: 174\n",
      "Episode 91: reward: 148.000, steps: 148\n",
      "Episode 92: reward: 171.000, steps: 171\n",
      "Episode 93: reward: 134.000, steps: 134\n",
      "Episode 94: reward: 145.000, steps: 145\n",
      "Episode 95: reward: 183.000, steps: 183\n",
      "Episode 96: reward: 126.000, steps: 126\n",
      "Episode 97: reward: 194.000, steps: 194\n",
      "Episode 98: reward: 127.000, steps: 127\n",
      "Episode 99: reward: 164.000, steps: 164\n",
      "Episode 100: reward: 190.000, steps: 190\n",
      "159.83\n"
     ]
    }
   ],
   "source": [
    "scores = dqn.test(env, nb_episodes=100, visualize=False)\n",
    "print(np.mean(scores.history['episode_reward']))"
   ]
  },
  {
   "cell_type": "code",
   "execution_count": 20,
   "metadata": {},
   "outputs": [
    {
     "name": "stdout",
     "output_type": "stream",
     "text": [
      "Testing for 5 episodes ...\n",
      "Episode 1: reward: 149.000, steps: 149\n",
      "Episode 2: reward: 191.000, steps: 191\n",
      "Episode 3: reward: 177.000, steps: 177\n",
      "Episode 4: reward: 132.000, steps: 132\n",
      "Episode 5: reward: 190.000, steps: 190\n"
     ]
    }
   ],
   "source": [
    "_ = dqn.test(env, nb_episodes=5, visualize=True)"
   ]
  },
  {
   "cell_type": "code",
   "execution_count": null,
   "metadata": {},
   "outputs": [],
   "source": []
  }
 ],
 "metadata": {
  "kernelspec": {
   "display_name": "Python 3",
   "language": "python",
   "name": "python3"
  },
  "language_info": {
   "codemirror_mode": {
    "name": "ipython",
    "version": 3
   },
   "file_extension": ".py",
   "mimetype": "text/x-python",
   "name": "python",
   "nbconvert_exporter": "python",
   "pygments_lexer": "ipython3",
   "version": "3.8.5"
  }
 },
 "nbformat": 4,
 "nbformat_minor": 4
}
